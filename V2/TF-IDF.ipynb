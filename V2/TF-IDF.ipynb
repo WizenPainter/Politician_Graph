{
 "cells": [
  {
   "cell_type": "code",
   "execution_count": 1,
   "id": "ad1233a0",
   "metadata": {},
   "outputs": [],
   "source": [
    "import csv\n",
    "import pandas as pd\n",
    "import numpy as np\n",
    "import os\n",
    "import random as rd\n",
    "import matplotlib.pyplot as plt\n",
    "import networkx as nx\n",
    "import nltk\n",
    "import wordcloud\n",
    "import community\n",
    "import math\n",
    "import powerlaw\n",
    "import urllib.request\n",
    "import json\n",
    "import re\n",
    "import operator\n",
    "from scipy import stats\n",
    "from fa2 import ForceAtlas2\n",
    "import warnings\n",
    "warnings.filterwarnings('ignore')"
   ]
  },
  {
   "cell_type": "code",
   "execution_count": 61,
   "id": "10b570f3",
   "metadata": {},
   "outputs": [],
   "source": [
    "sent_df = pd.read_csv('..\\\\sentiment_ion.csv', sep=';')\n",
    "sent_df.drop(columns=['Unnamed: 0'], inplace=True)\n",
    "sent_df = sent_df.dropna(axis=0, subset=['text'])"
   ]
  },
  {
   "cell_type": "code",
   "execution_count": 65,
   "id": "0bf8f458",
   "metadata": {},
   "outputs": [],
   "source": [
    "df = pd.read_pickle(\"connections.pkl\")\n",
    "poli = df[['name','group', 'chamber','links']]\n",
    "final_df = pd.merge(sent_df, poli, on='name', how='left')"
   ]
  },
  {
   "cell_type": "code",
   "execution_count": 66,
   "id": "2f103929",
   "metadata": {},
   "outputs": [],
   "source": [
    "df_text_by_url = final_df.groupby(['url'], as_index=False).agg({'text': ' '.join})\n",
    "#df2 = df2.to_frame()"
   ]
  },
  {
   "cell_type": "code",
   "execution_count": 85,
   "id": "b757b227",
   "metadata": {},
   "outputs": [
    {
     "data": {
      "text/plain": [
       "'www.irishtimes.com'"
      ]
     },
     "execution_count": 85,
     "metadata": {},
     "output_type": "execute_result"
    }
   ],
   "source": [
    "news_party = final_df.groupby(['url','group'], as_index=False).agg({'text': ' '.join})\n",
    "news_party.head()\n",
    "news_party['url'][300]"
   ]
  },
  {
   "cell_type": "markdown",
   "id": "7c8502cd",
   "metadata": {},
   "source": [
    "# Preprocessing text"
   ]
  },
  {
   "cell_type": "code",
   "execution_count": null,
   "id": "7f5e296d",
   "metadata": {},
   "outputs": [],
   "source": []
  },
  {
   "cell_type": "markdown",
   "id": "69699e8b",
   "metadata": {},
   "source": [
    "# TF-IDF"
   ]
  },
  {
   "cell_type": "code",
   "execution_count": null,
   "id": "71ceaad5",
   "metadata": {},
   "outputs": [],
   "source": [
    "from sklearn.feature_extraction.text import TfidfVectorizer\n",
    "vectorizer = TfidfVectorizer()\n",
    "texts = df_text_by_url['text']\n",
    "vectorizer.fit(texts)\n",
    "tfidf_values = vectorizer.transform(texts)"
   ]
  },
  {
   "cell_type": "markdown",
   "id": "0a8b602e",
   "metadata": {},
   "source": [
    "# Wordclouds"
   ]
  },
  {
   "cell_type": "code",
   "execution_count": null,
   "id": "db283b52",
   "metadata": {},
   "outputs": [],
   "source": []
  }
 ],
 "metadata": {
  "kernelspec": {
   "display_name": "Python 3 (ipykernel)",
   "language": "python",
   "name": "python3"
  },
  "language_info": {
   "codemirror_mode": {
    "name": "ipython",
    "version": 3
   },
   "file_extension": ".py",
   "mimetype": "text/x-python",
   "name": "python",
   "nbconvert_exporter": "python",
   "pygments_lexer": "ipython3",
   "version": "3.9.13"
  }
 },
 "nbformat": 4,
 "nbformat_minor": 5
}
