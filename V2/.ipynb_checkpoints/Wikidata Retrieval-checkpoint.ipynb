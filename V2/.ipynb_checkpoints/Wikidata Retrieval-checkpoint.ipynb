{
 "cells": [
  {
   "cell_type": "markdown",
   "id": "1442868f",
   "metadata": {},
   "source": [
    "# Declarations"
   ]
  },
  {
   "cell_type": "code",
   "execution_count": 123,
   "id": "fa13cb88",
   "metadata": {},
   "outputs": [],
   "source": [
    "def import_or_install(package):\n",
    "#     source : \n",
    "#     stackoverflow.com/questions/4527554/check-if-module-exists-if-not-install-it\n",
    "    \"\"\"\n",
    "    Input : string package\n",
    "    Output : install package if it does not exist\n",
    "    \"\"\"\n",
    "    try:\n",
    "        __import__(package)\n",
    "    except ImportError:\n",
    "        pip.main(['install',package])"
   ]
  },
  {
   "cell_type": "code",
   "execution_count": 124,
   "id": "23b48e03",
   "metadata": {},
   "outputs": [],
   "source": [
    "import pandas as pd\n",
    "import numpy as np\n",
    "import json\n",
    "import pip\n",
    "import re\n",
    "from urllib.request import urlopen\n",
    "import_or_install('wikidata')\n",
    "import requests\n",
    "from wikidata.client import Client\n",
    "from scipy import stats\n",
    "import powerlaw\n",
    "import matplotlib.pyplot as plt\n",
    "import seaborn as sns\n",
    "import networkx as nx\n",
    "import pickle\n",
    "from fa2 import ForceAtlas2\n",
    "import operator\n"
   ]
  },
  {
   "cell_type": "markdown",
   "id": "4e36423d",
   "metadata": {},
   "source": [
    "## Functions declarations"
   ]
  },
  {
   "cell_type": "code",
   "execution_count": 125,
   "id": "cfd6644b",
   "metadata": {},
   "outputs": [],
   "source": [
    "def load_all_to_df(*datasets):\n",
    "    \"\"\"\n",
    "    Input : strings of CSVs titles\n",
    "    Output: pandas dataframe containg all records in all CSVs\n",
    "    \"\"\"\n",
    "    df_list = [pd.read_csv(dataset) for dataset in datasets]\n",
    "    return pd.concat(df_list, ignore_index=True)"
   ]
  },
  {
   "cell_type": "code",
   "execution_count": 126,
   "id": "fbd9bc79",
   "metadata": {},
   "outputs": [],
   "source": [
    "def get_wikipedia_url(wikidata):\n",
    "    \"\"\"\n",
    "    Input : string wikidata ID\n",
    "    Output: wikipedia page url\n",
    "    \"\"\"\n",
    "    client = Client()\n",
    "    entity = client.get(wikidata, load=True)\n",
    "    return entity.data['sitelinks']['enwiki']['url']"
   ]
  },
  {
   "cell_type": "code",
   "execution_count": 128,
   "id": "fde6a6bd",
   "metadata": {},
   "outputs": [],
   "source": [
    "def get_json_wikipedia(url):\n",
    "    baseurl = 'https://en.wikipedia.org/w/api.php?'\n",
    "    action = 'action=query'\n",
    "    content = '&prop=revisions&rvprop=content'\n",
    "    dataformat = '&format=json'\n",
    "    title = '&titles=' + get_wikipedia_title(url)\n",
    "    query = \"%s%s%s%s%s\" % (baseurl,action,content,dataformat,title)\n",
    "    \n",
    "    wikiresponse = urlopen(query)\n",
    "    wikisource = wikiresponse.read()\n",
    "    wikitext = wikisource.decode('utf-8')\n",
    "    jsontext = json.loads(wikitext)['query']\n",
    "    return json.dumps(jsontext)"
   ]
  },
  {
   "cell_type": "code",
   "execution_count": 130,
   "id": "ccfba474",
   "metadata": {},
   "outputs": [],
   "source": [
    "def find_wikilinks(df = None):\n",
    "    \"\"\"\n",
    "    Input : pandas dataframe\n",
    "    Output : pandas dataframe with a new column containing the number of links\n",
    "    \"\"\"\n",
    "    linksList = []\n",
    "    for wikiId in df.wikidata:\n",
    "        url = get_wikipedia_url(wikiId)\n",
    "        links = get_links_from_url(url)\n",
    "        linksList.append(links)\n",
    "\n",
    "    df['links'] = linksList\n",
    "    return df"
   ]
  },
  {
   "cell_type": "code",
   "execution_count": 131,
   "id": "6a8b8c16",
   "metadata": {},
   "outputs": [],
   "source": [
    "def get_links_from_url(url):\n",
    "    pattern = r'\\[\\[(.*?)(?:\\|.*?)?\\]\\]'\n",
    "    wikitext = get_json_wikipedia(url)\n",
    "    return re.findall(pattern, wikitext)"
   ]
  },
  {
   "cell_type": "markdown",
   "id": "02e12547",
   "metadata": {},
   "source": [
    "# Load data for all members: senate and congress"
   ]
  },
  {
   "cell_type": "code",
   "execution_count": null,
   "id": "781353a1",
   "metadata": {},
   "outputs": [],
   "source": [
    "df_members = load_all_to_df('..//term-116_congress.csv','..//term-116_senate.csv')\n",
    "df_connections = connection_count(df_members)"
   ]
  },
  {
   "cell_type": "code",
   "execution_count": null,
   "id": "b7d2bd2a",
   "metadata": {},
   "outputs": [],
   "source": [
    "df_connections"
   ]
  },
  {
   "cell_type": "code",
   "execution_count": 122,
   "id": "c7c2cb13",
   "metadata": {},
   "outputs": [],
   "source": [
    "df_connections.to_pickle('connections.pkl')"
   ]
  }
 ],
 "metadata": {
  "kernelspec": {
   "display_name": "Python 3 (ipykernel)",
   "language": "python",
   "name": "python3"
  },
  "language_info": {
   "codemirror_mode": {
    "name": "ipython",
    "version": 3
   },
   "file_extension": ".py",
   "mimetype": "text/x-python",
   "name": "python",
   "nbconvert_exporter": "python",
   "pygments_lexer": "ipython3",
   "version": "3.9.13"
  },
  "vscode": {
   "interpreter": {
    "hash": "d7e74f33cb868fa5c3e6da8313f95e6204812e61dfdc8e5a1714e9542403f9ff"
   }
  }
 },
 "nbformat": 4,
 "nbformat_minor": 5
}
